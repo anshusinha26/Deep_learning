{
  "nbformat": 4,
  "nbformat_minor": 0,
  "metadata": {
    "colab": {
      "provenance": []
    },
    "kernelspec": {
      "name": "python3",
      "display_name": "Python 3"
    }
  },
  "cells": [
    {
      "cell_type": "markdown",
      "metadata": {
        "id": "xpAuMVCwfWs8"
      },
      "source": [
        "# Recurrent Neural Network"
      ]
    },
    {
      "cell_type": "markdown",
      "metadata": {
        "id": "nxJfRe4bfYVA"
      },
      "source": [
        "## Part 1 - Data Preprocessing"
      ]
    },
    {
      "cell_type": "markdown",
      "metadata": {
        "id": "ir9zwETrfbrp"
      },
      "source": [
        "### Importing the libraries"
      ]
    },
    {
      "cell_type": "code",
      "source": [
        "import numpy as np\n",
        "import matplotlib.pyplot as plt\n",
        "import pandas as pd"
      ],
      "metadata": {
        "id": "sVBt44r9yurt"
      },
      "execution_count": 1,
      "outputs": []
    },
    {
      "cell_type": "markdown",
      "metadata": {
        "id": "nQ47JAxrgmaL"
      },
      "source": [
        "### Importing the training set"
      ]
    },
    {
      "cell_type": "code",
      "source": [
        "train_data = pd.read_csv('Google_Stock_Price_Train.csv')\n",
        "train_set = train_data.iloc[:, 1:2].values"
      ],
      "metadata": {
        "id": "h5mTEHAgyzJI"
      },
      "execution_count": 2,
      "outputs": []
    },
    {
      "cell_type": "markdown",
      "metadata": {
        "id": "HT8_2UJegtG5"
      },
      "source": [
        "### Feature Scaling"
      ]
    },
    {
      "cell_type": "code",
      "source": [
        "from sklearn.preprocessing import MinMaxScaler\n",
        "sc = MinMaxScaler(\n",
        "    feature_range = (0, 1)\n",
        ")\n",
        "train_set_scaled = sc.fit_transform(train_set)"
      ],
      "metadata": {
        "id": "1AQZXnSqy-iO"
      },
      "execution_count": 3,
      "outputs": []
    },
    {
      "cell_type": "markdown",
      "metadata": {
        "id": "JyYgYocqhNUg"
      },
      "source": [
        "### Creating a data structure with 60 timesteps and 1 output"
      ]
    },
    {
      "cell_type": "code",
      "source": [
        "X_train = []\n",
        "y_train = []\n",
        "for i in range(60, 1258):\n",
        "  X_train.append(train_set_scaled[i-60:i, 0])\n",
        "  y_train.append(train_set_scaled[i, 0])\n",
        "X_train, y_train = np.array(X_train), np.array(y_train)"
      ],
      "metadata": {
        "id": "hvo70T2A9R81"
      },
      "execution_count": 4,
      "outputs": []
    },
    {
      "cell_type": "markdown",
      "metadata": {
        "id": "D8yaN7Zvi95l"
      },
      "source": [
        "### Reshaping"
      ]
    },
    {
      "cell_type": "code",
      "source": [
        "X_train = np.reshape(X_train, (X_train.shape[0], X_train.shape[1], 1))"
      ],
      "metadata": {
        "id": "LECazCD7-AHL"
      },
      "execution_count": 5,
      "outputs": []
    },
    {
      "cell_type": "markdown",
      "metadata": {
        "id": "ZRRSOJeVjEWV"
      },
      "source": [
        "## Part 2 - Building and Training the RNN"
      ]
    },
    {
      "cell_type": "markdown",
      "metadata": {
        "id": "k4XV88JMjHXG"
      },
      "source": [
        "### Importing the Keras libraries and packages"
      ]
    },
    {
      "cell_type": "code",
      "source": [
        "from keras.models import Sequential\n",
        "from keras.layers import Dense\n",
        "from keras.layers import LSTM\n",
        "from keras.layers import Dropout"
      ],
      "metadata": {
        "id": "-RIK4b4yNwGX"
      },
      "execution_count": 6,
      "outputs": []
    },
    {
      "cell_type": "markdown",
      "metadata": {
        "id": "FEIE-1s9jNzC"
      },
      "source": [
        "### Initialising the RNN"
      ]
    },
    {
      "cell_type": "code",
      "source": [
        "regressor = Sequential()"
      ],
      "metadata": {
        "id": "cLBwc-cWUSNu"
      },
      "execution_count": 7,
      "outputs": []
    },
    {
      "cell_type": "markdown",
      "metadata": {
        "id": "62eg1OPGjT8z"
      },
      "source": [
        "### Adding the first LSTM layer and some Dropout regularisation"
      ]
    },
    {
      "cell_type": "code",
      "source": [
        "regressor.add(\n",
        "    LSTM(\n",
        "        units = 50, \n",
        "        return_sequences = True, \n",
        "        input_shape = (X_train.shape[1], 1)\n",
        "    )\n",
        ")\n",
        "\n",
        "regressor.add(\n",
        "    Dropout(\n",
        "        0.2\n",
        "    )\n",
        ")"
      ],
      "metadata": {
        "id": "u_zD5KhTUWvk"
      },
      "execution_count": 8,
      "outputs": []
    },
    {
      "cell_type": "markdown",
      "metadata": {
        "id": "3XBIYLyOjlMx"
      },
      "source": [
        "### Adding a second LSTM layer and some Dropout regularisation"
      ]
    },
    {
      "cell_type": "code",
      "source": [
        "regressor.add(\n",
        "    LSTM(\n",
        "        units = 50, \n",
        "        return_sequences = True\n",
        "    )\n",
        ")\n",
        "\n",
        "regressor.add(\n",
        "    Dropout(\n",
        "        0.2\n",
        "    )\n",
        ")"
      ],
      "metadata": {
        "id": "haYyJ0aFVhGE"
      },
      "execution_count": 9,
      "outputs": []
    },
    {
      "cell_type": "markdown",
      "metadata": {
        "id": "Ey3fHVnGj1cu"
      },
      "source": [
        "### Adding a third LSTM layer and some Dropout regularisation"
      ]
    },
    {
      "cell_type": "code",
      "source": [
        "regressor.add(\n",
        "    LSTM(\n",
        "        units = 50, \n",
        "        return_sequences = True\n",
        "    )\n",
        ")\n",
        "\n",
        "regressor.add(\n",
        "    Dropout(\n",
        "        0.2\n",
        "    )\n",
        ")"
      ],
      "metadata": {
        "id": "LK46RtcIWL-K"
      },
      "execution_count": 10,
      "outputs": []
    },
    {
      "cell_type": "markdown",
      "metadata": {
        "id": "SYTrtfTmj933"
      },
      "source": [
        "### Adding a fourth LSTM layer and some Dropout regularisation"
      ]
    },
    {
      "cell_type": "code",
      "source": [
        "regressor.add(\n",
        "    LSTM(\n",
        "        units = 50, \n",
        "        return_sequences = False\n",
        "    )\n",
        ")\n",
        "\n",
        "regressor.add(\n",
        "    Dropout(\n",
        "        0.2\n",
        "    )\n",
        ")"
      ],
      "metadata": {
        "id": "VrO9XPNNWO6A"
      },
      "execution_count": 11,
      "outputs": []
    },
    {
      "cell_type": "markdown",
      "metadata": {
        "id": "9ABI6rOIkHhk"
      },
      "source": [
        "### Adding the output layer"
      ]
    },
    {
      "cell_type": "code",
      "source": [
        "regressor.add(\n",
        "    Dense(\n",
        "        units = 1\n",
        "    )\n",
        ")"
      ],
      "metadata": {
        "id": "s7PnQJY_WU34"
      },
      "execution_count": 12,
      "outputs": []
    },
    {
      "cell_type": "markdown",
      "metadata": {
        "id": "zLx4K7uUkPSh"
      },
      "source": [
        "### Compiling the RNN"
      ]
    },
    {
      "cell_type": "code",
      "source": [
        "regressor.compile(\n",
        "    optimizer = 'adam',\n",
        "    loss = 'mean_squared_error'\n",
        ")"
      ],
      "metadata": {
        "id": "_Vcvl3LvW0Qo"
      },
      "execution_count": 13,
      "outputs": []
    },
    {
      "cell_type": "markdown",
      "metadata": {
        "id": "-mPhwKGkkebi"
      },
      "source": [
        "### Fitting the RNN to the Training set"
      ]
    },
    {
      "cell_type": "code",
      "source": [
        "regressor.fit(\n",
        "    X_train, \n",
        "    y_train,\n",
        "    epochs = 100, batch_size = 32\n",
        ")"
      ],
      "metadata": {
        "colab": {
          "base_uri": "https://localhost:8080/"
        },
        "id": "BogIIQd8Xfoj",
        "outputId": "6e78685d-ce11-40d0-ffcb-59cbbeee2b73"
      },
      "execution_count": 14,
      "outputs": [
        {
          "output_type": "stream",
          "name": "stdout",
          "text": [
            "Epoch 1/100\n",
            "38/38 [==============================] - 26s 260ms/step - loss: 0.0416\n",
            "Epoch 2/100\n",
            "38/38 [==============================] - 6s 151ms/step - loss: 0.0066\n",
            "Epoch 3/100\n",
            "38/38 [==============================] - 5s 120ms/step - loss: 0.0056\n",
            "Epoch 4/100\n",
            "38/38 [==============================] - 6s 146ms/step - loss: 0.0053\n",
            "Epoch 5/100\n",
            "38/38 [==============================] - 5s 134ms/step - loss: 0.0049\n",
            "Epoch 6/100\n",
            "38/38 [==============================] - 5s 119ms/step - loss: 0.0048\n",
            "Epoch 7/100\n",
            "38/38 [==============================] - 6s 154ms/step - loss: 0.0050\n",
            "Epoch 8/100\n",
            "38/38 [==============================] - 5s 120ms/step - loss: 0.0044\n",
            "Epoch 9/100\n",
            "38/38 [==============================] - 5s 134ms/step - loss: 0.0046\n",
            "Epoch 10/100\n",
            "38/38 [==============================] - 5s 133ms/step - loss: 0.0044\n",
            "Epoch 11/100\n",
            "38/38 [==============================] - 5s 119ms/step - loss: 0.0051\n",
            "Epoch 12/100\n",
            "38/38 [==============================] - 6s 155ms/step - loss: 0.0043\n",
            "Epoch 13/100\n",
            "38/38 [==============================] - 5s 120ms/step - loss: 0.0040\n",
            "Epoch 14/100\n",
            "38/38 [==============================] - 5s 127ms/step - loss: 0.0041\n",
            "Epoch 15/100\n",
            "38/38 [==============================] - 5s 138ms/step - loss: 0.0038\n",
            "Epoch 16/100\n",
            "38/38 [==============================] - 4s 118ms/step - loss: 0.0038\n",
            "Epoch 17/100\n",
            "38/38 [==============================] - 6s 155ms/step - loss: 0.0040\n",
            "Epoch 18/100\n",
            "38/38 [==============================] - 5s 121ms/step - loss: 0.0033\n",
            "Epoch 19/100\n",
            "38/38 [==============================] - 5s 126ms/step - loss: 0.0041\n",
            "Epoch 20/100\n",
            "38/38 [==============================] - 6s 145ms/step - loss: 0.0037\n",
            "Epoch 21/100\n",
            "38/38 [==============================] - 5s 119ms/step - loss: 0.0036\n",
            "Epoch 22/100\n",
            "38/38 [==============================] - 7s 180ms/step - loss: 0.0035\n",
            "Epoch 23/100\n",
            "38/38 [==============================] - 5s 120ms/step - loss: 0.0036\n",
            "Epoch 24/100\n",
            "38/38 [==============================] - 5s 140ms/step - loss: 0.0035\n",
            "Epoch 25/100\n",
            "38/38 [==============================] - 6s 164ms/step - loss: 0.0034\n",
            "Epoch 26/100\n",
            "38/38 [==============================] - 5s 119ms/step - loss: 0.0029\n",
            "Epoch 27/100\n",
            "38/38 [==============================] - 6s 150ms/step - loss: 0.0030\n",
            "Epoch 28/100\n",
            "38/38 [==============================] - 5s 122ms/step - loss: 0.0030\n",
            "Epoch 29/100\n",
            "38/38 [==============================] - 6s 150ms/step - loss: 0.0031\n",
            "Epoch 30/100\n",
            "38/38 [==============================] - 5s 119ms/step - loss: 0.0030\n",
            "Epoch 31/100\n",
            "38/38 [==============================] - 5s 123ms/step - loss: 0.0031\n",
            "Epoch 32/100\n",
            "38/38 [==============================] - 6s 149ms/step - loss: 0.0028\n",
            "Epoch 33/100\n",
            "38/38 [==============================] - 4s 118ms/step - loss: 0.0027\n",
            "Epoch 34/100\n",
            "38/38 [==============================] - 6s 147ms/step - loss: 0.0030\n",
            "Epoch 35/100\n",
            "38/38 [==============================] - 5s 117ms/step - loss: 0.0029\n",
            "Epoch 36/100\n",
            "38/38 [==============================] - 4s 117ms/step - loss: 0.0029\n",
            "Epoch 37/100\n",
            "38/38 [==============================] - 6s 152ms/step - loss: 0.0028\n",
            "Epoch 38/100\n",
            "38/38 [==============================] - 5s 120ms/step - loss: 0.0028\n",
            "Epoch 39/100\n",
            "38/38 [==============================] - 5s 142ms/step - loss: 0.0027\n",
            "Epoch 40/100\n",
            "38/38 [==============================] - 5s 127ms/step - loss: 0.0028\n",
            "Epoch 41/100\n",
            "38/38 [==============================] - 5s 120ms/step - loss: 0.0024\n",
            "Epoch 42/100\n",
            "38/38 [==============================] - 6s 149ms/step - loss: 0.0024\n",
            "Epoch 43/100\n",
            "38/38 [==============================] - 4s 116ms/step - loss: 0.0025\n",
            "Epoch 44/100\n",
            "38/38 [==============================] - 5s 127ms/step - loss: 0.0024\n",
            "Epoch 45/100\n",
            "38/38 [==============================] - 5s 141ms/step - loss: 0.0025\n",
            "Epoch 46/100\n",
            "38/38 [==============================] - 5s 119ms/step - loss: 0.0026\n",
            "Epoch 47/100\n",
            "38/38 [==============================] - 6s 149ms/step - loss: 0.0024\n",
            "Epoch 48/100\n",
            "38/38 [==============================] - 4s 117ms/step - loss: 0.0020\n",
            "Epoch 49/100\n",
            "38/38 [==============================] - 5s 119ms/step - loss: 0.0020\n",
            "Epoch 50/100\n",
            "38/38 [==============================] - 6s 150ms/step - loss: 0.0024\n",
            "Epoch 51/100\n",
            "38/38 [==============================] - 4s 118ms/step - loss: 0.0022\n",
            "Epoch 52/100\n",
            "38/38 [==============================] - 6s 149ms/step - loss: 0.0022\n",
            "Epoch 53/100\n",
            "38/38 [==============================] - 5s 121ms/step - loss: 0.0023\n",
            "Epoch 54/100\n",
            "38/38 [==============================] - 5s 119ms/step - loss: 0.0021\n",
            "Epoch 55/100\n",
            "38/38 [==============================] - 6s 150ms/step - loss: 0.0022\n",
            "Epoch 56/100\n",
            "38/38 [==============================] - 4s 118ms/step - loss: 0.0022\n",
            "Epoch 57/100\n",
            "38/38 [==============================] - 5s 142ms/step - loss: 0.0022\n",
            "Epoch 58/100\n",
            "38/38 [==============================] - 5s 122ms/step - loss: 0.0020\n",
            "Epoch 59/100\n",
            "38/38 [==============================] - 5s 124ms/step - loss: 0.0025\n",
            "Epoch 60/100\n",
            "38/38 [==============================] - 6s 149ms/step - loss: 0.0021\n",
            "Epoch 61/100\n",
            "38/38 [==============================] - 4s 118ms/step - loss: 0.0025\n",
            "Epoch 62/100\n",
            "38/38 [==============================] - 5s 137ms/step - loss: 0.0020\n",
            "Epoch 63/100\n",
            "38/38 [==============================] - 5s 127ms/step - loss: 0.0021\n",
            "Epoch 64/100\n",
            "38/38 [==============================] - 4s 118ms/step - loss: 0.0020\n",
            "Epoch 65/100\n",
            "38/38 [==============================] - 6s 149ms/step - loss: 0.0017\n",
            "Epoch 66/100\n",
            "38/38 [==============================] - 5s 122ms/step - loss: 0.0018\n",
            "Epoch 67/100\n",
            "38/38 [==============================] - 5s 134ms/step - loss: 0.0019\n",
            "Epoch 68/100\n",
            "38/38 [==============================] - 5s 136ms/step - loss: 0.0019\n",
            "Epoch 69/100\n",
            "38/38 [==============================] - 5s 119ms/step - loss: 0.0018\n",
            "Epoch 70/100\n",
            "38/38 [==============================] - 6s 150ms/step - loss: 0.0019\n",
            "Epoch 71/100\n",
            "38/38 [==============================] - 5s 123ms/step - loss: 0.0019\n",
            "Epoch 72/100\n",
            "38/38 [==============================] - 5s 121ms/step - loss: 0.0018\n",
            "Epoch 73/100\n",
            "38/38 [==============================] - 5s 141ms/step - loss: 0.0017\n",
            "Epoch 74/100\n",
            "38/38 [==============================] - 5s 120ms/step - loss: 0.0016\n",
            "Epoch 75/100\n",
            "38/38 [==============================] - 6s 149ms/step - loss: 0.0016\n",
            "Epoch 76/100\n",
            "38/38 [==============================] - 5s 120ms/step - loss: 0.0016\n",
            "Epoch 77/100\n",
            "38/38 [==============================] - 5s 119ms/step - loss: 0.0017\n",
            "Epoch 78/100\n",
            "38/38 [==============================] - 6s 147ms/step - loss: 0.0016\n",
            "Epoch 79/100\n",
            "38/38 [==============================] - 5s 121ms/step - loss: 0.0018\n",
            "Epoch 80/100\n",
            "38/38 [==============================] - 7s 184ms/step - loss: 0.0016\n",
            "Epoch 81/100\n",
            "38/38 [==============================] - 5s 121ms/step - loss: 0.0016\n",
            "Epoch 82/100\n",
            "38/38 [==============================] - 5s 119ms/step - loss: 0.0015\n",
            "Epoch 83/100\n",
            "38/38 [==============================] - 6s 148ms/step - loss: 0.0016\n",
            "Epoch 84/100\n",
            "38/38 [==============================] - 5s 122ms/step - loss: 0.0017\n",
            "Epoch 85/100\n",
            "38/38 [==============================] - 6s 150ms/step - loss: 0.0015\n",
            "Epoch 86/100\n",
            "38/38 [==============================] - 5s 118ms/step - loss: 0.0015\n",
            "Epoch 87/100\n",
            "38/38 [==============================] - 5s 120ms/step - loss: 0.0016\n",
            "Epoch 88/100\n",
            "38/38 [==============================] - 6s 149ms/step - loss: 0.0016\n",
            "Epoch 89/100\n",
            "38/38 [==============================] - 5s 119ms/step - loss: 0.0016\n",
            "Epoch 90/100\n",
            "38/38 [==============================] - 5s 142ms/step - loss: 0.0014\n",
            "Epoch 91/100\n",
            "38/38 [==============================] - 5s 126ms/step - loss: 0.0019\n",
            "Epoch 92/100\n",
            "38/38 [==============================] - 5s 122ms/step - loss: 0.0016\n",
            "Epoch 93/100\n",
            "38/38 [==============================] - 6s 153ms/step - loss: 0.0016\n",
            "Epoch 94/100\n",
            "38/38 [==============================] - 4s 117ms/step - loss: 0.0014\n",
            "Epoch 95/100\n",
            "38/38 [==============================] - 5s 131ms/step - loss: 0.0015\n",
            "Epoch 96/100\n",
            "38/38 [==============================] - 5s 135ms/step - loss: 0.0015\n",
            "Epoch 97/100\n",
            "38/38 [==============================] - 5s 121ms/step - loss: 0.0013\n",
            "Epoch 98/100\n",
            "38/38 [==============================] - 6s 149ms/step - loss: 0.0015\n",
            "Epoch 99/100\n",
            "38/38 [==============================] - 4s 117ms/step - loss: 0.0015\n",
            "Epoch 100/100\n",
            "38/38 [==============================] - 4s 117ms/step - loss: 0.0014\n"
          ]
        },
        {
          "output_type": "execute_result",
          "data": {
            "text/plain": [
              "<keras.callbacks.History at 0x7f2881e6acb0>"
            ]
          },
          "metadata": {},
          "execution_count": 14
        }
      ]
    },
    {
      "cell_type": "markdown",
      "metadata": {
        "id": "4hRau_lIkrE8"
      },
      "source": [
        "## Part 3 - Making the predictions and visualising the results"
      ]
    },
    {
      "cell_type": "markdown",
      "metadata": {
        "id": "SgJO6qEDksxD"
      },
      "source": [
        "### Getting the real stock price of 2017"
      ]
    },
    {
      "cell_type": "code",
      "source": [
        "test_data = pd.read_csv('Google_Stock_Price_Test.csv')\n",
        "real_stock_price = test_data.iloc[:, 1:2].values"
      ],
      "metadata": {
        "id": "YkZ-8JunZb-1"
      },
      "execution_count": 15,
      "outputs": []
    },
    {
      "cell_type": "markdown",
      "metadata": {
        "id": "GrvrLblxkz42"
      },
      "source": [
        "### Getting the predicted stock price of 2017"
      ]
    },
    {
      "cell_type": "code",
      "source": [
        "total_data = pd.concat(\n",
        "    (\n",
        "        train_data['Open'],\n",
        "        test_data['Open']\n",
        "    ), \n",
        "    axis = 0\n",
        ")\n",
        "\n",
        "inputs = total_data[len(total_data) - len(test_data) - 60:].values\n",
        "inputs = inputs.reshape(-1, 1)\n",
        "inputs = sc.transform(inputs)\n",
        "\n",
        "X_test = []\n",
        "for i in range(60, 80):\n",
        "  X_test.append(inputs[i-60:i, 0])\n",
        "X_test = np.array(X_test)\n",
        "X_test = np.reshape(X_test, (X_test.shape[0], X_test.shape[1], 1))\n",
        "\n",
        "predicted_stock_price = regressor.predict(X_test)\n",
        "predicted_stock_price = sc.inverse_transform(predicted_stock_price)\n",
        "print(predicted_stock_price)"
      ],
      "metadata": {
        "colab": {
          "base_uri": "https://localhost:8080/"
        },
        "id": "5ug6T-jtbPg1",
        "outputId": "d1151729-e304-4f80-a26c-fad6c29a5905"
      },
      "execution_count": 16,
      "outputs": [
        {
          "output_type": "stream",
          "name": "stdout",
          "text": [
            "1/1 [==============================] - 2s 2s/step\n",
            "[[785.8254 ]\n",
            " [782.86505]\n",
            " [783.79834]\n",
            " [785.0589 ]\n",
            " [788.378  ]\n",
            " [794.3031 ]\n",
            " [798.8039 ]\n",
            " [799.6704 ]\n",
            " [799.5852 ]\n",
            " [799.5573 ]\n",
            " [799.76776]\n",
            " [799.9385 ]\n",
            " [800.15955]\n",
            " [801.1701 ]\n",
            " [802.3592 ]\n",
            " [807.9819 ]\n",
            " [815.0693 ]\n",
            " [821.95764]\n",
            " [824.4705 ]\n",
            " [818.1096 ]]\n"
          ]
        }
      ]
    },
    {
      "cell_type": "markdown",
      "metadata": {
        "id": "iFTNs3YHk6FQ"
      },
      "source": [
        "### Visualising the results"
      ]
    },
    {
      "cell_type": "code",
      "source": [
        "plt.plot(\n",
        "    real_stock_price,\n",
        "    color = 'red',\n",
        "    label = 'Real Google stock price'\n",
        ")\n",
        "plt.plot(\n",
        "    predicted_stock_price,\n",
        "    color = 'blue',\n",
        "    label = 'Predicted Google stock price'\n",
        ")\n",
        "plt.title('Google stock price prediction')\n",
        "plt.xlabel('Time')\n",
        "plt.ylabel('Google stock price')\n",
        "plt.legend()\n",
        "plt.show"
      ],
      "metadata": {
        "colab": {
          "base_uri": "https://localhost:8080/",
          "height": 489
        },
        "id": "OR2pG_zOh06u",
        "outputId": "1256744e-8c1c-4344-8057-e0829e5662a7"
      },
      "execution_count": 17,
      "outputs": [
        {
          "output_type": "execute_result",
          "data": {
            "text/plain": [
              "<function matplotlib.pyplot.show(close=None, block=None)>"
            ]
          },
          "metadata": {},
          "execution_count": 17
        },
        {
          "output_type": "display_data",
          "data": {
            "text/plain": [
              "<Figure size 640x480 with 1 Axes>"
            ],
            "image/png": "[encoded data removed]"
          },
          "metadata": {}
        }
      ]
    }
  ]
}